{
 "cells": [
  {
   "cell_type": "markdown",
   "metadata": {},
   "source": [
    "## **Первое задание**\n",
    "\n",
    "Парсинг заголовков верхнего уровня с веб-страницы https://en.wikipedia.org/wiki/Bias%E2%80%93variance_tradeoff"
   ]
  },
  {
   "cell_type": "code",
   "execution_count": 131,
   "metadata": {},
   "outputs": [],
   "source": [
    "import requests"
   ]
  },
  {
   "cell_type": "code",
   "execution_count": 132,
   "metadata": {},
   "outputs": [],
   "source": [
    "import bs4"
   ]
  },
  {
   "cell_type": "code",
   "execution_count": 133,
   "metadata": {},
   "outputs": [],
   "source": [
    "url1 = 'https://en.wikipedia.org/wiki/Bias%E2%80%93variance_tradeoff'"
   ]
  },
  {
   "cell_type": "code",
   "execution_count": 134,
   "metadata": {},
   "outputs": [],
   "source": [
    "req1 = requests.get(url1)"
   ]
  },
  {
   "cell_type": "code",
   "execution_count": 135,
   "metadata": {},
   "outputs": [],
   "source": [
    "parser1 = bs4.BeautifulSoup(req1.text, 'html')"
   ]
  },
  {
   "cell_type": "code",
   "execution_count": 136,
   "metadata": {},
   "outputs": [],
   "source": [
    "contents = parser1.findAll('div', {'id': 'toc'})[0]"
   ]
  },
  {
   "cell_type": "code",
   "execution_count": 137,
   "metadata": {},
   "outputs": [],
   "source": [
    "answer1 = []"
   ]
  },
  {
   "cell_type": "code",
   "execution_count": 138,
   "metadata": {},
   "outputs": [],
   "source": [
    "for i in contents.findAll('li', attrs={'class': 'toclevel-1'}):\n",
    "    answer1.append(i.find('span', attrs={'class': 'toctext'}).text)\n"
   ]
  },
  {
   "cell_type": "code",
   "execution_count": 139,
   "metadata": {},
   "outputs": [
    {
     "name": "stdout",
     "output_type": "stream",
     "text": [
      "Заголовки верхнего уровня с веб-страницы https://en.wikipedia.org/wiki/Bias%E2%80%93variance_tradeoff:\n",
      "\n",
      "Motivation\n",
      "Bias–variance decomposition of mean squared error\n",
      "Approaches\n",
      "Applications\n",
      "See also\n",
      "References\n"
     ]
    }
   ],
   "source": [
    "print(f'Заголовки верхнего уровня с веб-страницы {url1}:')\n",
    "print()\n",
    "for i in answer1:\n",
    "    print(i)"
   ]
  },
  {
   "cell_type": "markdown",
   "metadata": {},
   "source": [
    "## **Второе задание**\n",
    "Парсинг названий статей из категории с веб-страницы https://en.wikipedia.org/wiki/Category:Machine_learning_algorithms"
   ]
  },
  {
   "cell_type": "code",
   "execution_count": 140,
   "metadata": {},
   "outputs": [],
   "source": [
    "url2 = 'https://en.wikipedia.org/wiki/Category:Machine_learning_algorithms'"
   ]
  },
  {
   "cell_type": "code",
   "execution_count": 141,
   "metadata": {},
   "outputs": [],
   "source": [
    "req2 = requests.get(url2)"
   ]
  },
  {
   "cell_type": "code",
   "execution_count": 142,
   "metadata": {},
   "outputs": [],
   "source": [
    "parser2 = bs4.BeautifulSoup(req2.text, 'html')"
   ]
  },
  {
   "cell_type": "code",
   "execution_count": 143,
   "metadata": {},
   "outputs": [],
   "source": [
    "pages = parser2.find('div', attrs={'id': 'mw-pages'})"
   ]
  },
  {
   "cell_type": "code",
   "execution_count": 144,
   "metadata": {},
   "outputs": [],
   "source": [
    "answer2 = []"
   ]
  },
  {
   "cell_type": "code",
   "execution_count": 145,
   "metadata": {},
   "outputs": [],
   "source": [
    "for i in pages.findAll('li'):\n",
    "    answer2.append(i.text)"
   ]
  },
  {
   "cell_type": "code",
   "execution_count": 146,
   "metadata": {},
   "outputs": [
    {
     "name": "stdout",
     "output_type": "stream",
     "text": [
      "Названия всех статей в категории Machine Learning Algorithms:\n",
      "\n",
      "Adagrad\n",
      "Algorithms of Oppression\n",
      "Almeida–Pineda recurrent backpropagation\n",
      "Augmented Analytics\n",
      "Backpropagation\n",
      "Bioz\n",
      "Bootstrap aggregating\n",
      "CN2 algorithm\n",
      "Constructing skill trees\n",
      "Deep reinforcement learning\n",
      "Dehaene–Changeux model\n",
      "Diffusion map\n",
      "Dominance-based rough set approach\n",
      "Dynamic time warping\n",
      "Elastic net regularization\n",
      "Error-driven learning\n",
      "Evolutionary multimodal optimization\n",
      "Expectation–maximization algorithm\n",
      "Extremal Ensemble Learning\n",
      "FastICA\n",
      "Federated Learning of Cohorts\n",
      "Forward–backward algorithm\n",
      "GeneRec\n",
      "Genetic Algorithm for Rule Set Production\n",
      "Growing self-organizing map\n",
      "Hyper basis function network\n",
      "IDistance\n",
      "Incremental learning\n",
      "K-nearest neighbors algorithm\n",
      "Kernel methods for vector output\n",
      "Kernel principal component analysis\n",
      "Label propagation algorithm\n",
      "Lasso (statistics)\n",
      "Leabra\n",
      "Linde–Buzo–Gray algorithm\n",
      "Local outlier factor\n",
      "Logic learning machine\n",
      "LogitBoost\n",
      "Loss functions for classification\n",
      "Manifold alignment\n",
      "Minimum redundancy feature selection\n",
      "Mixture of experts\n",
      "Multiple kernel learning\n",
      "NarxCare\n",
      "Non-negative matrix factorization\n",
      "Online machine learning\n",
      "Out-of-bag error\n",
      "Prefrontal cortex basal ganglia working memory\n",
      "Prototype methods\n",
      "PVLV\n",
      "Q-learning\n",
      "Quadratic unconstrained binary optimization\n",
      "Query-level feature\n",
      "Quickprop\n",
      "Radial basis function network\n",
      "Randomized weighted majority algorithm\n",
      "Repeated incremental pruning to produce error reduction (RIPPER)\n",
      "Rprop\n",
      "Rule-based machine learning\n",
      "Skill chaining\n",
      "Sparse PCA\n",
      "State–action–reward–state–action\n",
      "Stochastic gradient descent\n",
      "Structured kNN\n",
      "T-distributed stochastic neighbor embedding\n",
      "Triplet loss\n",
      "Wake-sleep algorithm\n",
      "Weighted majority algorithm (machine learning)\n",
      "Zero-shot learning\n"
     ]
    }
   ],
   "source": [
    "print('Названия всех статей в категории Machine Learning Algorithms:')\n",
    "print()\n",
    "for i in answer2:\n",
    "    print(i)"
   ]
  }
 ],
 "metadata": {
  "interpreter": {
   "hash": "b3ba2566441a7c06988d0923437866b63cedc61552a5af99d1f4fb67d367b25f"
  },
  "kernelspec": {
   "display_name": "Python 3.7.4 64-bit ('base': conda)",
   "language": "python",
   "name": "python3"
  },
  "language_info": {
   "codemirror_mode": {
    "name": "ipython",
    "version": 3
   },
   "file_extension": ".py",
   "mimetype": "text/x-python",
   "name": "python",
   "nbconvert_exporter": "python",
   "pygments_lexer": "ipython3",
   "version": "3.7.4"
  },
  "orig_nbformat": 4
 },
 "nbformat": 4,
 "nbformat_minor": 2
}
